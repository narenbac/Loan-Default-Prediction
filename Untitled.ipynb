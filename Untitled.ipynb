{
 "cells": [
  {
   "cell_type": "code",
   "execution_count": 2403,
   "id": "e689db93",
   "metadata": {},
   "outputs": [],
   "source": [
    "# importing required libraries\n",
    "\n",
    "import numpy as np\n",
    "import pandas as pd\n",
    "import matplotlib.pyplot as plt\n",
    "%matplotlib inline\n",
    "import seaborn as sns"
   ]
  },
  {
   "cell_type": "code",
   "execution_count": 2404,
   "id": "d290a005",
   "metadata": {},
   "outputs": [],
   "source": [
    "# loading the train and test dataset in pandas dataframe\n",
    "\n",
    "train_df = pd.read_csv('train_LZV4RXX.csv')\n",
    "test_df = pd.read_csv('test_4zJg83n.csv')\n",
    "submission = pd.read_csv('sample_submission_tbPU9qQ.csv')"
   ]
  },
  {
   "cell_type": "code",
   "execution_count": 2405,
   "id": "273a2274",
   "metadata": {},
   "outputs": [
    {
     "data": {
      "text/html": [
       "<div>\n",
       "<style scoped>\n",
       "    .dataframe tbody tr th:only-of-type {\n",
       "        vertical-align: middle;\n",
       "    }\n",
       "\n",
       "    .dataframe tbody tr th {\n",
       "        vertical-align: top;\n",
       "    }\n",
       "\n",
       "    .dataframe thead th {\n",
       "        text-align: right;\n",
       "    }\n",
       "</style>\n",
       "<table border=\"1\" class=\"dataframe\">\n",
       "  <thead>\n",
       "    <tr style=\"text-align: right;\">\n",
       "      <th></th>\n",
       "      <th>loan_id</th>\n",
       "      <th>age</th>\n",
       "      <th>education</th>\n",
       "      <th>proof_submitted</th>\n",
       "      <th>loan_amount</th>\n",
       "      <th>asset_cost</th>\n",
       "      <th>no_of_loans</th>\n",
       "      <th>no_of_curr_loans</th>\n",
       "      <th>last_delinq_none</th>\n",
       "      <th>loan_default</th>\n",
       "    </tr>\n",
       "  </thead>\n",
       "  <tbody>\n",
       "    <tr>\n",
       "      <th>0</th>\n",
       "      <td>1</td>\n",
       "      <td>27</td>\n",
       "      <td>1.0</td>\n",
       "      <td>Aadhar</td>\n",
       "      <td>504264</td>\n",
       "      <td>820920</td>\n",
       "      <td>2</td>\n",
       "      <td>2</td>\n",
       "      <td>0</td>\n",
       "      <td>0</td>\n",
       "    </tr>\n",
       "    <tr>\n",
       "      <th>1</th>\n",
       "      <td>2</td>\n",
       "      <td>48</td>\n",
       "      <td>1.0</td>\n",
       "      <td>Aadhar</td>\n",
       "      <td>728556</td>\n",
       "      <td>831444</td>\n",
       "      <td>6</td>\n",
       "      <td>2</td>\n",
       "      <td>0</td>\n",
       "      <td>0</td>\n",
       "    </tr>\n",
       "    <tr>\n",
       "      <th>2</th>\n",
       "      <td>3</td>\n",
       "      <td>30</td>\n",
       "      <td>2.0</td>\n",
       "      <td>VoterID</td>\n",
       "      <td>642936</td>\n",
       "      <td>826092</td>\n",
       "      <td>0</td>\n",
       "      <td>0</td>\n",
       "      <td>0</td>\n",
       "      <td>1</td>\n",
       "    </tr>\n",
       "    <tr>\n",
       "      <th>3</th>\n",
       "      <td>4</td>\n",
       "      <td>28</td>\n",
       "      <td>1.0</td>\n",
       "      <td>Aadhar</td>\n",
       "      <td>746556</td>\n",
       "      <td>930924</td>\n",
       "      <td>0</td>\n",
       "      <td>0</td>\n",
       "      <td>0</td>\n",
       "      <td>0</td>\n",
       "    </tr>\n",
       "    <tr>\n",
       "      <th>4</th>\n",
       "      <td>5</td>\n",
       "      <td>29</td>\n",
       "      <td>1.0</td>\n",
       "      <td>Aadhar</td>\n",
       "      <td>1139880</td>\n",
       "      <td>1902000</td>\n",
       "      <td>0</td>\n",
       "      <td>0</td>\n",
       "      <td>0</td>\n",
       "      <td>0</td>\n",
       "    </tr>\n",
       "  </tbody>\n",
       "</table>\n",
       "</div>"
      ],
      "text/plain": [
       "   loan_id  age  education proof_submitted  loan_amount  asset_cost  \\\n",
       "0        1   27        1.0          Aadhar       504264      820920   \n",
       "1        2   48        1.0          Aadhar       728556      831444   \n",
       "2        3   30        2.0         VoterID       642936      826092   \n",
       "3        4   28        1.0          Aadhar       746556      930924   \n",
       "4        5   29        1.0          Aadhar      1139880     1902000   \n",
       "\n",
       "   no_of_loans  no_of_curr_loans  last_delinq_none  loan_default  \n",
       "0            2                 2                 0             0  \n",
       "1            6                 2                 0             0  \n",
       "2            0                 0                 0             1  \n",
       "3            0                 0                 0             0  \n",
       "4            0                 0                 0             0  "
      ]
     },
     "execution_count": 2405,
     "metadata": {},
     "output_type": "execute_result"
    }
   ],
   "source": [
    "train_df.head()"
   ]
  },
  {
   "cell_type": "code",
   "execution_count": 2406,
   "id": "99521b84",
   "metadata": {},
   "outputs": [
    {
     "data": {
      "text/plain": [
       "(7000, 10)"
      ]
     },
     "execution_count": 2406,
     "metadata": {},
     "output_type": "execute_result"
    }
   ],
   "source": [
    "train_df.shape"
   ]
  },
  {
   "cell_type": "code",
   "execution_count": 2407,
   "id": "4feae00c",
   "metadata": {},
   "outputs": [
    {
     "data": {
      "text/html": [
       "<div>\n",
       "<style scoped>\n",
       "    .dataframe tbody tr th:only-of-type {\n",
       "        vertical-align: middle;\n",
       "    }\n",
       "\n",
       "    .dataframe tbody tr th {\n",
       "        vertical-align: top;\n",
       "    }\n",
       "\n",
       "    .dataframe thead th {\n",
       "        text-align: right;\n",
       "    }\n",
       "</style>\n",
       "<table border=\"1\" class=\"dataframe\">\n",
       "  <thead>\n",
       "    <tr style=\"text-align: right;\">\n",
       "      <th></th>\n",
       "      <th>loan_id</th>\n",
       "      <th>age</th>\n",
       "      <th>education</th>\n",
       "      <th>proof_submitted</th>\n",
       "      <th>loan_amount</th>\n",
       "      <th>asset_cost</th>\n",
       "      <th>no_of_loans</th>\n",
       "      <th>no_of_curr_loans</th>\n",
       "      <th>last_delinq_none</th>\n",
       "    </tr>\n",
       "  </thead>\n",
       "  <tbody>\n",
       "    <tr>\n",
       "      <th>0</th>\n",
       "      <td>7001</td>\n",
       "      <td>29</td>\n",
       "      <td>1.0</td>\n",
       "      <td>Aadhar</td>\n",
       "      <td>636936</td>\n",
       "      <td>768240</td>\n",
       "      <td>2</td>\n",
       "      <td>2</td>\n",
       "      <td>0</td>\n",
       "    </tr>\n",
       "    <tr>\n",
       "      <th>1</th>\n",
       "      <td>7002</td>\n",
       "      <td>28</td>\n",
       "      <td>1.0</td>\n",
       "      <td>Aadhar</td>\n",
       "      <td>548988</td>\n",
       "      <td>693060</td>\n",
       "      <td>3</td>\n",
       "      <td>3</td>\n",
       "      <td>0</td>\n",
       "    </tr>\n",
       "    <tr>\n",
       "      <th>2</th>\n",
       "      <td>7003</td>\n",
       "      <td>28</td>\n",
       "      <td>1.0</td>\n",
       "      <td>Aadhar</td>\n",
       "      <td>651756</td>\n",
       "      <td>936600</td>\n",
       "      <td>0</td>\n",
       "      <td>0</td>\n",
       "      <td>0</td>\n",
       "    </tr>\n",
       "    <tr>\n",
       "      <th>3</th>\n",
       "      <td>7004</td>\n",
       "      <td>45</td>\n",
       "      <td>2.0</td>\n",
       "      <td>Aadhar</td>\n",
       "      <td>614676</td>\n",
       "      <td>744840</td>\n",
       "      <td>4</td>\n",
       "      <td>3</td>\n",
       "      <td>0</td>\n",
       "    </tr>\n",
       "    <tr>\n",
       "      <th>4</th>\n",
       "      <td>7005</td>\n",
       "      <td>48</td>\n",
       "      <td>1.0</td>\n",
       "      <td>Aadhar</td>\n",
       "      <td>625236</td>\n",
       "      <td>839400</td>\n",
       "      <td>0</td>\n",
       "      <td>0</td>\n",
       "      <td>0</td>\n",
       "    </tr>\n",
       "  </tbody>\n",
       "</table>\n",
       "</div>"
      ],
      "text/plain": [
       "   loan_id  age  education proof_submitted  loan_amount  asset_cost  \\\n",
       "0     7001   29        1.0          Aadhar       636936      768240   \n",
       "1     7002   28        1.0          Aadhar       548988      693060   \n",
       "2     7003   28        1.0          Aadhar       651756      936600   \n",
       "3     7004   45        2.0          Aadhar       614676      744840   \n",
       "4     7005   48        1.0          Aadhar       625236      839400   \n",
       "\n",
       "   no_of_loans  no_of_curr_loans  last_delinq_none  \n",
       "0            2                 2                 0  \n",
       "1            3                 3                 0  \n",
       "2            0                 0                 0  \n",
       "3            4                 3                 0  \n",
       "4            0                 0                 0  "
      ]
     },
     "execution_count": 2407,
     "metadata": {},
     "output_type": "execute_result"
    }
   ],
   "source": [
    "test_df.head()"
   ]
  },
  {
   "cell_type": "code",
   "execution_count": 2408,
   "id": "83297c3a",
   "metadata": {},
   "outputs": [
    {
     "data": {
      "text/plain": [
       "(3000, 9)"
      ]
     },
     "execution_count": 2408,
     "metadata": {},
     "output_type": "execute_result"
    }
   ],
   "source": [
    "test_df.shape"
   ]
  },
  {
   "cell_type": "code",
   "execution_count": 2409,
   "id": "d1398109",
   "metadata": {},
   "outputs": [
    {
     "data": {
      "text/html": [
       "<div>\n",
       "<style scoped>\n",
       "    .dataframe tbody tr th:only-of-type {\n",
       "        vertical-align: middle;\n",
       "    }\n",
       "\n",
       "    .dataframe tbody tr th {\n",
       "        vertical-align: top;\n",
       "    }\n",
       "\n",
       "    .dataframe thead th {\n",
       "        text-align: right;\n",
       "    }\n",
       "</style>\n",
       "<table border=\"1\" class=\"dataframe\">\n",
       "  <thead>\n",
       "    <tr style=\"text-align: right;\">\n",
       "      <th></th>\n",
       "      <th>loan_id</th>\n",
       "      <th>loan_default</th>\n",
       "    </tr>\n",
       "  </thead>\n",
       "  <tbody>\n",
       "    <tr>\n",
       "      <th>0</th>\n",
       "      <td>7001</td>\n",
       "      <td>1</td>\n",
       "    </tr>\n",
       "    <tr>\n",
       "      <th>1</th>\n",
       "      <td>7002</td>\n",
       "      <td>1</td>\n",
       "    </tr>\n",
       "    <tr>\n",
       "      <th>2</th>\n",
       "      <td>7003</td>\n",
       "      <td>1</td>\n",
       "    </tr>\n",
       "    <tr>\n",
       "      <th>3</th>\n",
       "      <td>7004</td>\n",
       "      <td>1</td>\n",
       "    </tr>\n",
       "    <tr>\n",
       "      <th>4</th>\n",
       "      <td>7005</td>\n",
       "      <td>1</td>\n",
       "    </tr>\n",
       "  </tbody>\n",
       "</table>\n",
       "</div>"
      ],
      "text/plain": [
       "   loan_id  loan_default\n",
       "0     7001             1\n",
       "1     7002             1\n",
       "2     7003             1\n",
       "3     7004             1\n",
       "4     7005             1"
      ]
     },
     "execution_count": 2409,
     "metadata": {},
     "output_type": "execute_result"
    }
   ],
   "source": [
    "submission.head()"
   ]
  },
  {
   "cell_type": "code",
   "execution_count": 2410,
   "id": "93229c39",
   "metadata": {},
   "outputs": [
    {
     "data": {
      "text/plain": [
       "(3000, 2)"
      ]
     },
     "execution_count": 2410,
     "metadata": {},
     "output_type": "execute_result"
    }
   ],
   "source": [
    "submission.shape"
   ]
  },
  {
   "cell_type": "code",
   "execution_count": 2411,
   "id": "b4899a0f",
   "metadata": {},
   "outputs": [],
   "source": [
    "df = pd.concat([train_df,test_df],axis=0,ignore_index=True)"
   ]
  },
  {
   "cell_type": "code",
   "execution_count": 2412,
   "id": "a08f8d65",
   "metadata": {},
   "outputs": [
    {
     "data": {
      "text/html": [
       "<div>\n",
       "<style scoped>\n",
       "    .dataframe tbody tr th:only-of-type {\n",
       "        vertical-align: middle;\n",
       "    }\n",
       "\n",
       "    .dataframe tbody tr th {\n",
       "        vertical-align: top;\n",
       "    }\n",
       "\n",
       "    .dataframe thead th {\n",
       "        text-align: right;\n",
       "    }\n",
       "</style>\n",
       "<table border=\"1\" class=\"dataframe\">\n",
       "  <thead>\n",
       "    <tr style=\"text-align: right;\">\n",
       "      <th></th>\n",
       "      <th>loan_id</th>\n",
       "      <th>age</th>\n",
       "      <th>education</th>\n",
       "      <th>proof_submitted</th>\n",
       "      <th>loan_amount</th>\n",
       "      <th>asset_cost</th>\n",
       "      <th>no_of_loans</th>\n",
       "      <th>no_of_curr_loans</th>\n",
       "      <th>last_delinq_none</th>\n",
       "      <th>loan_default</th>\n",
       "    </tr>\n",
       "  </thead>\n",
       "  <tbody>\n",
       "    <tr>\n",
       "      <th>0</th>\n",
       "      <td>1</td>\n",
       "      <td>27</td>\n",
       "      <td>1.0</td>\n",
       "      <td>Aadhar</td>\n",
       "      <td>504264</td>\n",
       "      <td>820920</td>\n",
       "      <td>2</td>\n",
       "      <td>2</td>\n",
       "      <td>0</td>\n",
       "      <td>0.0</td>\n",
       "    </tr>\n",
       "    <tr>\n",
       "      <th>1</th>\n",
       "      <td>2</td>\n",
       "      <td>48</td>\n",
       "      <td>1.0</td>\n",
       "      <td>Aadhar</td>\n",
       "      <td>728556</td>\n",
       "      <td>831444</td>\n",
       "      <td>6</td>\n",
       "      <td>2</td>\n",
       "      <td>0</td>\n",
       "      <td>0.0</td>\n",
       "    </tr>\n",
       "    <tr>\n",
       "      <th>2</th>\n",
       "      <td>3</td>\n",
       "      <td>30</td>\n",
       "      <td>2.0</td>\n",
       "      <td>VoterID</td>\n",
       "      <td>642936</td>\n",
       "      <td>826092</td>\n",
       "      <td>0</td>\n",
       "      <td>0</td>\n",
       "      <td>0</td>\n",
       "      <td>1.0</td>\n",
       "    </tr>\n",
       "    <tr>\n",
       "      <th>3</th>\n",
       "      <td>4</td>\n",
       "      <td>28</td>\n",
       "      <td>1.0</td>\n",
       "      <td>Aadhar</td>\n",
       "      <td>746556</td>\n",
       "      <td>930924</td>\n",
       "      <td>0</td>\n",
       "      <td>0</td>\n",
       "      <td>0</td>\n",
       "      <td>0.0</td>\n",
       "    </tr>\n",
       "    <tr>\n",
       "      <th>4</th>\n",
       "      <td>5</td>\n",
       "      <td>29</td>\n",
       "      <td>1.0</td>\n",
       "      <td>Aadhar</td>\n",
       "      <td>1139880</td>\n",
       "      <td>1902000</td>\n",
       "      <td>0</td>\n",
       "      <td>0</td>\n",
       "      <td>0</td>\n",
       "      <td>0.0</td>\n",
       "    </tr>\n",
       "    <tr>\n",
       "      <th>...</th>\n",
       "      <td>...</td>\n",
       "      <td>...</td>\n",
       "      <td>...</td>\n",
       "      <td>...</td>\n",
       "      <td>...</td>\n",
       "      <td>...</td>\n",
       "      <td>...</td>\n",
       "      <td>...</td>\n",
       "      <td>...</td>\n",
       "      <td>...</td>\n",
       "    </tr>\n",
       "    <tr>\n",
       "      <th>9995</th>\n",
       "      <td>9996</td>\n",
       "      <td>30</td>\n",
       "      <td>2.0</td>\n",
       "      <td>Aadhar</td>\n",
       "      <td>353808</td>\n",
       "      <td>823656</td>\n",
       "      <td>0</td>\n",
       "      <td>0</td>\n",
       "      <td>0</td>\n",
       "      <td>NaN</td>\n",
       "    </tr>\n",
       "    <tr>\n",
       "      <th>9996</th>\n",
       "      <td>9997</td>\n",
       "      <td>32</td>\n",
       "      <td>2.0</td>\n",
       "      <td>Aadhar</td>\n",
       "      <td>767364</td>\n",
       "      <td>919380</td>\n",
       "      <td>4</td>\n",
       "      <td>2</td>\n",
       "      <td>0</td>\n",
       "      <td>NaN</td>\n",
       "    </tr>\n",
       "    <tr>\n",
       "      <th>9997</th>\n",
       "      <td>9998</td>\n",
       "      <td>43</td>\n",
       "      <td>1.0</td>\n",
       "      <td>Aadhar</td>\n",
       "      <td>639456</td>\n",
       "      <td>773088</td>\n",
       "      <td>2</td>\n",
       "      <td>2</td>\n",
       "      <td>0</td>\n",
       "      <td>NaN</td>\n",
       "    </tr>\n",
       "    <tr>\n",
       "      <th>9998</th>\n",
       "      <td>9999</td>\n",
       "      <td>32</td>\n",
       "      <td>2.0</td>\n",
       "      <td>Aadhar</td>\n",
       "      <td>687108</td>\n",
       "      <td>907728</td>\n",
       "      <td>0</td>\n",
       "      <td>0</td>\n",
       "      <td>0</td>\n",
       "      <td>NaN</td>\n",
       "    </tr>\n",
       "    <tr>\n",
       "      <th>9999</th>\n",
       "      <td>10000</td>\n",
       "      <td>42</td>\n",
       "      <td>2.0</td>\n",
       "      <td>Aadhar</td>\n",
       "      <td>648156</td>\n",
       "      <td>755160</td>\n",
       "      <td>5</td>\n",
       "      <td>4</td>\n",
       "      <td>0</td>\n",
       "      <td>NaN</td>\n",
       "    </tr>\n",
       "  </tbody>\n",
       "</table>\n",
       "<p>10000 rows × 10 columns</p>\n",
       "</div>"
      ],
      "text/plain": [
       "      loan_id  age  education proof_submitted  loan_amount  asset_cost  \\\n",
       "0           1   27        1.0          Aadhar       504264      820920   \n",
       "1           2   48        1.0          Aadhar       728556      831444   \n",
       "2           3   30        2.0         VoterID       642936      826092   \n",
       "3           4   28        1.0          Aadhar       746556      930924   \n",
       "4           5   29        1.0          Aadhar      1139880     1902000   \n",
       "...       ...  ...        ...             ...          ...         ...   \n",
       "9995     9996   30        2.0          Aadhar       353808      823656   \n",
       "9996     9997   32        2.0          Aadhar       767364      919380   \n",
       "9997     9998   43        1.0          Aadhar       639456      773088   \n",
       "9998     9999   32        2.0          Aadhar       687108      907728   \n",
       "9999    10000   42        2.0          Aadhar       648156      755160   \n",
       "\n",
       "      no_of_loans  no_of_curr_loans  last_delinq_none  loan_default  \n",
       "0               2                 2                 0           0.0  \n",
       "1               6                 2                 0           0.0  \n",
       "2               0                 0                 0           1.0  \n",
       "3               0                 0                 0           0.0  \n",
       "4               0                 0                 0           0.0  \n",
       "...           ...               ...               ...           ...  \n",
       "9995            0                 0                 0           NaN  \n",
       "9996            4                 2                 0           NaN  \n",
       "9997            2                 2                 0           NaN  \n",
       "9998            0                 0                 0           NaN  \n",
       "9999            5                 4                 0           NaN  \n",
       "\n",
       "[10000 rows x 10 columns]"
      ]
     },
     "execution_count": 2412,
     "metadata": {},
     "output_type": "execute_result"
    }
   ],
   "source": [
    "df"
   ]
  },
  {
   "cell_type": "code",
   "execution_count": 2413,
   "id": "a6da43e8",
   "metadata": {},
   "outputs": [
    {
     "name": "stdout",
     "output_type": "stream",
     "text": [
      "<class 'pandas.core.frame.DataFrame'>\n",
      "RangeIndex: 10000 entries, 0 to 9999\n",
      "Data columns (total 10 columns):\n",
      " #   Column            Non-Null Count  Dtype  \n",
      "---  ------            --------------  -----  \n",
      " 0   loan_id           10000 non-null  int64  \n",
      " 1   age               10000 non-null  int64  \n",
      " 2   education         9663 non-null   float64\n",
      " 3   proof_submitted   10000 non-null  object \n",
      " 4   loan_amount       10000 non-null  int64  \n",
      " 5   asset_cost        10000 non-null  int64  \n",
      " 6   no_of_loans       10000 non-null  int64  \n",
      " 7   no_of_curr_loans  10000 non-null  int64  \n",
      " 8   last_delinq_none  10000 non-null  int64  \n",
      " 9   loan_default      7000 non-null   float64\n",
      "dtypes: float64(2), int64(7), object(1)\n",
      "memory usage: 781.4+ KB\n"
     ]
    }
   ],
   "source": [
    "df.info()"
   ]
  },
  {
   "cell_type": "code",
   "execution_count": 2414,
   "id": "a0392718",
   "metadata": {},
   "outputs": [
    {
     "data": {
      "text/html": [
       "<div>\n",
       "<style scoped>\n",
       "    .dataframe tbody tr th:only-of-type {\n",
       "        vertical-align: middle;\n",
       "    }\n",
       "\n",
       "    .dataframe tbody tr th {\n",
       "        vertical-align: top;\n",
       "    }\n",
       "\n",
       "    .dataframe thead th {\n",
       "        text-align: right;\n",
       "    }\n",
       "</style>\n",
       "<table border=\"1\" class=\"dataframe\">\n",
       "  <thead>\n",
       "    <tr style=\"text-align: right;\">\n",
       "      <th></th>\n",
       "      <th>loan_id</th>\n",
       "      <th>age</th>\n",
       "      <th>education</th>\n",
       "      <th>proof_submitted</th>\n",
       "      <th>loan_amount</th>\n",
       "      <th>asset_cost</th>\n",
       "      <th>no_of_loans</th>\n",
       "      <th>no_of_curr_loans</th>\n",
       "      <th>last_delinq_none</th>\n",
       "      <th>loan_default</th>\n",
       "    </tr>\n",
       "  </thead>\n",
       "  <tbody>\n",
       "    <tr>\n",
       "      <th>count</th>\n",
       "      <td>10000.00000</td>\n",
       "      <td>10000.000000</td>\n",
       "      <td>9663.000000</td>\n",
       "      <td>10000</td>\n",
       "      <td>1.000000e+04</td>\n",
       "      <td>1.000000e+04</td>\n",
       "      <td>10000.000000</td>\n",
       "      <td>10000.000000</td>\n",
       "      <td>10000.000000</td>\n",
       "      <td>7000.000000</td>\n",
       "    </tr>\n",
       "    <tr>\n",
       "      <th>unique</th>\n",
       "      <td>NaN</td>\n",
       "      <td>NaN</td>\n",
       "      <td>NaN</td>\n",
       "      <td>5</td>\n",
       "      <td>NaN</td>\n",
       "      <td>NaN</td>\n",
       "      <td>NaN</td>\n",
       "      <td>NaN</td>\n",
       "      <td>NaN</td>\n",
       "      <td>NaN</td>\n",
       "    </tr>\n",
       "    <tr>\n",
       "      <th>top</th>\n",
       "      <td>NaN</td>\n",
       "      <td>NaN</td>\n",
       "      <td>NaN</td>\n",
       "      <td>Aadhar</td>\n",
       "      <td>NaN</td>\n",
       "      <td>NaN</td>\n",
       "      <td>NaN</td>\n",
       "      <td>NaN</td>\n",
       "      <td>NaN</td>\n",
       "      <td>NaN</td>\n",
       "    </tr>\n",
       "    <tr>\n",
       "      <th>freq</th>\n",
       "      <td>NaN</td>\n",
       "      <td>NaN</td>\n",
       "      <td>NaN</td>\n",
       "      <td>8476</td>\n",
       "      <td>NaN</td>\n",
       "      <td>NaN</td>\n",
       "      <td>NaN</td>\n",
       "      <td>NaN</td>\n",
       "      <td>NaN</td>\n",
       "      <td>NaN</td>\n",
       "    </tr>\n",
       "    <tr>\n",
       "      <th>mean</th>\n",
       "      <td>5000.50000</td>\n",
       "      <td>36.100900</td>\n",
       "      <td>1.562455</td>\n",
       "      <td>NaN</td>\n",
       "      <td>6.632274e+05</td>\n",
       "      <td>9.145898e+05</td>\n",
       "      <td>2.843000</td>\n",
       "      <td>1.372100</td>\n",
       "      <td>0.013600</td>\n",
       "      <td>0.400000</td>\n",
       "    </tr>\n",
       "    <tr>\n",
       "      <th>std</th>\n",
       "      <td>2886.89568</td>\n",
       "      <td>7.551425</td>\n",
       "      <td>0.496110</td>\n",
       "      <td>NaN</td>\n",
       "      <td>1.484078e+05</td>\n",
       "      <td>2.122862e+05</td>\n",
       "      <td>5.429374</td>\n",
       "      <td>2.198073</td>\n",
       "      <td>0.115829</td>\n",
       "      <td>0.489933</td>\n",
       "    </tr>\n",
       "    <tr>\n",
       "      <th>min</th>\n",
       "      <td>1.00000</td>\n",
       "      <td>21.000000</td>\n",
       "      <td>1.000000</td>\n",
       "      <td>NaN</td>\n",
       "      <td>1.678800e+05</td>\n",
       "      <td>4.706040e+05</td>\n",
       "      <td>0.000000</td>\n",
       "      <td>0.000000</td>\n",
       "      <td>0.000000</td>\n",
       "      <td>0.000000</td>\n",
       "    </tr>\n",
       "    <tr>\n",
       "      <th>25%</th>\n",
       "      <td>2500.75000</td>\n",
       "      <td>30.000000</td>\n",
       "      <td>1.000000</td>\n",
       "      <td>NaN</td>\n",
       "      <td>5.793960e+05</td>\n",
       "      <td>7.959450e+05</td>\n",
       "      <td>0.000000</td>\n",
       "      <td>0.000000</td>\n",
       "      <td>0.000000</td>\n",
       "      <td>0.000000</td>\n",
       "    </tr>\n",
       "    <tr>\n",
       "      <th>50%</th>\n",
       "      <td>5000.50000</td>\n",
       "      <td>36.000000</td>\n",
       "      <td>2.000000</td>\n",
       "      <td>NaN</td>\n",
       "      <td>6.559080e+05</td>\n",
       "      <td>8.580000e+05</td>\n",
       "      <td>0.000000</td>\n",
       "      <td>0.000000</td>\n",
       "      <td>0.000000</td>\n",
       "      <td>0.000000</td>\n",
       "    </tr>\n",
       "    <tr>\n",
       "      <th>75%</th>\n",
       "      <td>7500.25000</td>\n",
       "      <td>43.000000</td>\n",
       "      <td>2.000000</td>\n",
       "      <td>NaN</td>\n",
       "      <td>7.352970e+05</td>\n",
       "      <td>9.552420e+05</td>\n",
       "      <td>3.000000</td>\n",
       "      <td>2.000000</td>\n",
       "      <td>0.000000</td>\n",
       "      <td>1.000000</td>\n",
       "    </tr>\n",
       "    <tr>\n",
       "      <th>max</th>\n",
       "      <td>10000.00000</td>\n",
       "      <td>50.000000</td>\n",
       "      <td>2.000000</td>\n",
       "      <td>NaN</td>\n",
       "      <td>1.781376e+06</td>\n",
       "      <td>2.419200e+06</td>\n",
       "      <td>109.000000</td>\n",
       "      <td>33.000000</td>\n",
       "      <td>1.000000</td>\n",
       "      <td>1.000000</td>\n",
       "    </tr>\n",
       "  </tbody>\n",
       "</table>\n",
       "</div>"
      ],
      "text/plain": [
       "            loan_id           age    education proof_submitted   loan_amount  \\\n",
       "count   10000.00000  10000.000000  9663.000000           10000  1.000000e+04   \n",
       "unique          NaN           NaN          NaN               5           NaN   \n",
       "top             NaN           NaN          NaN          Aadhar           NaN   \n",
       "freq            NaN           NaN          NaN            8476           NaN   \n",
       "mean     5000.50000     36.100900     1.562455             NaN  6.632274e+05   \n",
       "std      2886.89568      7.551425     0.496110             NaN  1.484078e+05   \n",
       "min         1.00000     21.000000     1.000000             NaN  1.678800e+05   \n",
       "25%      2500.75000     30.000000     1.000000             NaN  5.793960e+05   \n",
       "50%      5000.50000     36.000000     2.000000             NaN  6.559080e+05   \n",
       "75%      7500.25000     43.000000     2.000000             NaN  7.352970e+05   \n",
       "max     10000.00000     50.000000     2.000000             NaN  1.781376e+06   \n",
       "\n",
       "          asset_cost   no_of_loans  no_of_curr_loans  last_delinq_none  \\\n",
       "count   1.000000e+04  10000.000000      10000.000000      10000.000000   \n",
       "unique           NaN           NaN               NaN               NaN   \n",
       "top              NaN           NaN               NaN               NaN   \n",
       "freq             NaN           NaN               NaN               NaN   \n",
       "mean    9.145898e+05      2.843000          1.372100          0.013600   \n",
       "std     2.122862e+05      5.429374          2.198073          0.115829   \n",
       "min     4.706040e+05      0.000000          0.000000          0.000000   \n",
       "25%     7.959450e+05      0.000000          0.000000          0.000000   \n",
       "50%     8.580000e+05      0.000000          0.000000          0.000000   \n",
       "75%     9.552420e+05      3.000000          2.000000          0.000000   \n",
       "max     2.419200e+06    109.000000         33.000000          1.000000   \n",
       "\n",
       "        loan_default  \n",
       "count    7000.000000  \n",
       "unique           NaN  \n",
       "top              NaN  \n",
       "freq             NaN  \n",
       "mean        0.400000  \n",
       "std         0.489933  \n",
       "min         0.000000  \n",
       "25%         0.000000  \n",
       "50%         0.000000  \n",
       "75%         1.000000  \n",
       "max         1.000000  "
      ]
     },
     "execution_count": 2414,
     "metadata": {},
     "output_type": "execute_result"
    }
   ],
   "source": [
    "df.describe(include='all')"
   ]
  },
  {
   "cell_type": "code",
   "execution_count": 2415,
   "id": "6ed40c5b",
   "metadata": {},
   "outputs": [
    {
     "data": {
      "text/plain": [
       "loan_id             10000\n",
       "age                    30\n",
       "education               2\n",
       "proof_submitted         5\n",
       "loan_amount          3416\n",
       "asset_cost           7323\n",
       "no_of_loans            60\n",
       "no_of_curr_loans       23\n",
       "last_delinq_none        2\n",
       "loan_default            2\n",
       "dtype: int64"
      ]
     },
     "execution_count": 2415,
     "metadata": {},
     "output_type": "execute_result"
    }
   ],
   "source": [
    "df.nunique()"
   ]
  },
  {
   "cell_type": "markdown",
   "id": "66f1195c",
   "metadata": {},
   "source": [
    "### Missing values in education"
   ]
  },
  {
   "cell_type": "code",
   "execution_count": 2416,
   "id": "932cc6bb",
   "metadata": {},
   "outputs": [
    {
     "data": {
      "text/plain": [
       "loan_id                0\n",
       "age                    0\n",
       "education            337\n",
       "proof_submitted        0\n",
       "loan_amount            0\n",
       "asset_cost             0\n",
       "no_of_loans            0\n",
       "no_of_curr_loans       0\n",
       "last_delinq_none       0\n",
       "loan_default        3000\n",
       "dtype: int64"
      ]
     },
     "execution_count": 2416,
     "metadata": {},
     "output_type": "execute_result"
    }
   ],
   "source": [
    "df.isnull().sum()"
   ]
  },
  {
   "cell_type": "code",
   "execution_count": 2417,
   "id": "95a350cf",
   "metadata": {},
   "outputs": [
    {
     "data": {
      "text/plain": [
       "2.0    5435\n",
       "1.0    4228\n",
       "NaN     337\n",
       "Name: education, dtype: int64"
      ]
     },
     "execution_count": 2417,
     "metadata": {},
     "output_type": "execute_result"
    }
   ],
   "source": [
    "df['education'].value_counts(dropna=False)"
   ]
  },
  {
   "cell_type": "code",
   "execution_count": 2418,
   "id": "9a168315",
   "metadata": {},
   "outputs": [],
   "source": [
    "df['education'].fillna('0',inplace=True)\n",
    "df['education'] = df['education'].astype('int')\n",
    "df['education'] = df['education'].astype('string')"
   ]
  },
  {
   "cell_type": "code",
   "execution_count": 2419,
   "id": "ea7d386c",
   "metadata": {},
   "outputs": [
    {
     "data": {
      "text/plain": [
       "2    5435\n",
       "1    4228\n",
       "0     337\n",
       "Name: education, dtype: Int64"
      ]
     },
     "execution_count": 2419,
     "metadata": {},
     "output_type": "execute_result"
    }
   ],
   "source": [
    "df['education'].value_counts()"
   ]
  },
  {
   "cell_type": "code",
   "execution_count": 2420,
   "id": "b80d4ad2",
   "metadata": {},
   "outputs": [
    {
     "data": {
      "text/plain": [
       "0"
      ]
     },
     "execution_count": 2420,
     "metadata": {},
     "output_type": "execute_result"
    }
   ],
   "source": [
    "df.iloc[:,1:].duplicated().sum()"
   ]
  },
  {
   "cell_type": "markdown",
   "id": "197096b8",
   "metadata": {},
   "source": [
    "## Feature Engineering"
   ]
  },
  {
   "cell_type": "code",
   "execution_count": 2421,
   "id": "4f4cac8e",
   "metadata": {},
   "outputs": [],
   "source": [
    "# # One Hot Encoding\n",
    "edu = pd.get_dummies(df['education'],drop_first=True)\n",
    "# ps = pd.get_dummies(df['proof_submitted'],drop_first=True)"
   ]
  },
  {
   "cell_type": "code",
   "execution_count": 2422,
   "id": "0709bab1",
   "metadata": {},
   "outputs": [],
   "source": [
    "df = pd.concat([df,edu],axis=1)"
   ]
  },
  {
   "cell_type": "code",
   "execution_count": 2423,
   "id": "73504957",
   "metadata": {},
   "outputs": [],
   "source": [
    "df.drop(['loan_id','education','last_delinq_none','proof_submitted'],axis=1,inplace=True)"
   ]
  },
  {
   "cell_type": "code",
   "execution_count": 2424,
   "id": "bc70208f",
   "metadata": {
    "scrolled": true
   },
   "outputs": [
    {
     "data": {
      "text/html": [
       "<div>\n",
       "<style scoped>\n",
       "    .dataframe tbody tr th:only-of-type {\n",
       "        vertical-align: middle;\n",
       "    }\n",
       "\n",
       "    .dataframe tbody tr th {\n",
       "        vertical-align: top;\n",
       "    }\n",
       "\n",
       "    .dataframe thead th {\n",
       "        text-align: right;\n",
       "    }\n",
       "</style>\n",
       "<table border=\"1\" class=\"dataframe\">\n",
       "  <thead>\n",
       "    <tr style=\"text-align: right;\">\n",
       "      <th></th>\n",
       "      <th>age</th>\n",
       "      <th>loan_amount</th>\n",
       "      <th>asset_cost</th>\n",
       "      <th>no_of_loans</th>\n",
       "      <th>no_of_curr_loans</th>\n",
       "      <th>loan_default</th>\n",
       "      <th>1</th>\n",
       "      <th>2</th>\n",
       "    </tr>\n",
       "  </thead>\n",
       "  <tbody>\n",
       "    <tr>\n",
       "      <th>0</th>\n",
       "      <td>27</td>\n",
       "      <td>504264</td>\n",
       "      <td>820920</td>\n",
       "      <td>2</td>\n",
       "      <td>2</td>\n",
       "      <td>0.0</td>\n",
       "      <td>1</td>\n",
       "      <td>0</td>\n",
       "    </tr>\n",
       "    <tr>\n",
       "      <th>1</th>\n",
       "      <td>48</td>\n",
       "      <td>728556</td>\n",
       "      <td>831444</td>\n",
       "      <td>6</td>\n",
       "      <td>2</td>\n",
       "      <td>0.0</td>\n",
       "      <td>1</td>\n",
       "      <td>0</td>\n",
       "    </tr>\n",
       "    <tr>\n",
       "      <th>2</th>\n",
       "      <td>30</td>\n",
       "      <td>642936</td>\n",
       "      <td>826092</td>\n",
       "      <td>0</td>\n",
       "      <td>0</td>\n",
       "      <td>1.0</td>\n",
       "      <td>0</td>\n",
       "      <td>1</td>\n",
       "    </tr>\n",
       "    <tr>\n",
       "      <th>3</th>\n",
       "      <td>28</td>\n",
       "      <td>746556</td>\n",
       "      <td>930924</td>\n",
       "      <td>0</td>\n",
       "      <td>0</td>\n",
       "      <td>0.0</td>\n",
       "      <td>1</td>\n",
       "      <td>0</td>\n",
       "    </tr>\n",
       "    <tr>\n",
       "      <th>4</th>\n",
       "      <td>29</td>\n",
       "      <td>1139880</td>\n",
       "      <td>1902000</td>\n",
       "      <td>0</td>\n",
       "      <td>0</td>\n",
       "      <td>0.0</td>\n",
       "      <td>1</td>\n",
       "      <td>0</td>\n",
       "    </tr>\n",
       "  </tbody>\n",
       "</table>\n",
       "</div>"
      ],
      "text/plain": [
       "   age  loan_amount  asset_cost  no_of_loans  no_of_curr_loans  loan_default  \\\n",
       "0   27       504264      820920            2                 2           0.0   \n",
       "1   48       728556      831444            6                 2           0.0   \n",
       "2   30       642936      826092            0                 0           1.0   \n",
       "3   28       746556      930924            0                 0           0.0   \n",
       "4   29      1139880     1902000            0                 0           0.0   \n",
       "\n",
       "   1  2  \n",
       "0  1  0  \n",
       "1  1  0  \n",
       "2  0  1  \n",
       "3  1  0  \n",
       "4  1  0  "
      ]
     },
     "execution_count": 2424,
     "metadata": {},
     "output_type": "execute_result"
    }
   ],
   "source": [
    "df.head()"
   ]
  },
  {
   "cell_type": "code",
   "execution_count": 2425,
   "id": "4ca2e671",
   "metadata": {},
   "outputs": [],
   "source": [
    "# df['loan_per_asset'] = df['loan_amount']/df['asset_cost']\n",
    "# sns.distplot(df['loan_per_asset'])\n",
    "# df['loan_per_asset'].skew()\n",
    "# df['loan_per_asset'] = np.power(df['loan_per_asset'],4)\n",
    "# sns.distplot(df['loan_per_asset'])\n",
    "# df['loan_per_asset'].skew()\n",
    "# df['loan_per_asset'].plot(kind='box')\n",
    "# df.drop(['loan_amount','asset_cost'],axis=1,inplace=True)"
   ]
  },
  {
   "cell_type": "code",
   "execution_count": 2426,
   "id": "0d1d847b",
   "metadata": {},
   "outputs": [],
   "source": [
    "train_df = df.iloc[:7000]\n",
    "test_df = df.iloc[7000:].drop('loan_default',axis=1)"
   ]
  },
  {
   "cell_type": "code",
   "execution_count": 2427,
   "id": "c610fbd0",
   "metadata": {},
   "outputs": [
    {
     "data": {
      "text/html": [
       "<div>\n",
       "<style scoped>\n",
       "    .dataframe tbody tr th:only-of-type {\n",
       "        vertical-align: middle;\n",
       "    }\n",
       "\n",
       "    .dataframe tbody tr th {\n",
       "        vertical-align: top;\n",
       "    }\n",
       "\n",
       "    .dataframe thead th {\n",
       "        text-align: right;\n",
       "    }\n",
       "</style>\n",
       "<table border=\"1\" class=\"dataframe\">\n",
       "  <thead>\n",
       "    <tr style=\"text-align: right;\">\n",
       "      <th></th>\n",
       "      <th>age</th>\n",
       "      <th>loan_amount</th>\n",
       "      <th>asset_cost</th>\n",
       "      <th>no_of_loans</th>\n",
       "      <th>no_of_curr_loans</th>\n",
       "      <th>1</th>\n",
       "      <th>2</th>\n",
       "    </tr>\n",
       "  </thead>\n",
       "  <tbody>\n",
       "    <tr>\n",
       "      <th>7000</th>\n",
       "      <td>29</td>\n",
       "      <td>636936</td>\n",
       "      <td>768240</td>\n",
       "      <td>2</td>\n",
       "      <td>2</td>\n",
       "      <td>1</td>\n",
       "      <td>0</td>\n",
       "    </tr>\n",
       "    <tr>\n",
       "      <th>7001</th>\n",
       "      <td>28</td>\n",
       "      <td>548988</td>\n",
       "      <td>693060</td>\n",
       "      <td>3</td>\n",
       "      <td>3</td>\n",
       "      <td>1</td>\n",
       "      <td>0</td>\n",
       "    </tr>\n",
       "    <tr>\n",
       "      <th>7002</th>\n",
       "      <td>28</td>\n",
       "      <td>651756</td>\n",
       "      <td>936600</td>\n",
       "      <td>0</td>\n",
       "      <td>0</td>\n",
       "      <td>1</td>\n",
       "      <td>0</td>\n",
       "    </tr>\n",
       "    <tr>\n",
       "      <th>7003</th>\n",
       "      <td>45</td>\n",
       "      <td>614676</td>\n",
       "      <td>744840</td>\n",
       "      <td>4</td>\n",
       "      <td>3</td>\n",
       "      <td>0</td>\n",
       "      <td>1</td>\n",
       "    </tr>\n",
       "    <tr>\n",
       "      <th>7004</th>\n",
       "      <td>48</td>\n",
       "      <td>625236</td>\n",
       "      <td>839400</td>\n",
       "      <td>0</td>\n",
       "      <td>0</td>\n",
       "      <td>1</td>\n",
       "      <td>0</td>\n",
       "    </tr>\n",
       "    <tr>\n",
       "      <th>...</th>\n",
       "      <td>...</td>\n",
       "      <td>...</td>\n",
       "      <td>...</td>\n",
       "      <td>...</td>\n",
       "      <td>...</td>\n",
       "      <td>...</td>\n",
       "      <td>...</td>\n",
       "    </tr>\n",
       "    <tr>\n",
       "      <th>9995</th>\n",
       "      <td>30</td>\n",
       "      <td>353808</td>\n",
       "      <td>823656</td>\n",
       "      <td>0</td>\n",
       "      <td>0</td>\n",
       "      <td>0</td>\n",
       "      <td>1</td>\n",
       "    </tr>\n",
       "    <tr>\n",
       "      <th>9996</th>\n",
       "      <td>32</td>\n",
       "      <td>767364</td>\n",
       "      <td>919380</td>\n",
       "      <td>4</td>\n",
       "      <td>2</td>\n",
       "      <td>0</td>\n",
       "      <td>1</td>\n",
       "    </tr>\n",
       "    <tr>\n",
       "      <th>9997</th>\n",
       "      <td>43</td>\n",
       "      <td>639456</td>\n",
       "      <td>773088</td>\n",
       "      <td>2</td>\n",
       "      <td>2</td>\n",
       "      <td>1</td>\n",
       "      <td>0</td>\n",
       "    </tr>\n",
       "    <tr>\n",
       "      <th>9998</th>\n",
       "      <td>32</td>\n",
       "      <td>687108</td>\n",
       "      <td>907728</td>\n",
       "      <td>0</td>\n",
       "      <td>0</td>\n",
       "      <td>0</td>\n",
       "      <td>1</td>\n",
       "    </tr>\n",
       "    <tr>\n",
       "      <th>9999</th>\n",
       "      <td>42</td>\n",
       "      <td>648156</td>\n",
       "      <td>755160</td>\n",
       "      <td>5</td>\n",
       "      <td>4</td>\n",
       "      <td>0</td>\n",
       "      <td>1</td>\n",
       "    </tr>\n",
       "  </tbody>\n",
       "</table>\n",
       "<p>3000 rows × 7 columns</p>\n",
       "</div>"
      ],
      "text/plain": [
       "      age  loan_amount  asset_cost  no_of_loans  no_of_curr_loans  1  2\n",
       "7000   29       636936      768240            2                 2  1  0\n",
       "7001   28       548988      693060            3                 3  1  0\n",
       "7002   28       651756      936600            0                 0  1  0\n",
       "7003   45       614676      744840            4                 3  0  1\n",
       "7004   48       625236      839400            0                 0  1  0\n",
       "...   ...          ...         ...          ...               ... .. ..\n",
       "9995   30       353808      823656            0                 0  0  1\n",
       "9996   32       767364      919380            4                 2  0  1\n",
       "9997   43       639456      773088            2                 2  1  0\n",
       "9998   32       687108      907728            0                 0  0  1\n",
       "9999   42       648156      755160            5                 4  0  1\n",
       "\n",
       "[3000 rows x 7 columns]"
      ]
     },
     "execution_count": 2427,
     "metadata": {},
     "output_type": "execute_result"
    }
   ],
   "source": [
    "test_df"
   ]
  },
  {
   "cell_type": "code",
   "execution_count": 2428,
   "id": "6de4d993",
   "metadata": {},
   "outputs": [],
   "source": [
    "# define independent and dependent variables\n",
    "X = train_df.drop(['loan_default'],axis=1)\n",
    "y = train_df.loan_default"
   ]
  },
  {
   "cell_type": "code",
   "execution_count": 2429,
   "id": "27cc4314",
   "metadata": {},
   "outputs": [],
   "source": [
    "columns = X.columns"
   ]
  },
  {
   "cell_type": "code",
   "execution_count": 2430,
   "id": "e0aff4a6",
   "metadata": {},
   "outputs": [],
   "source": [
    "# splitting train and test dataset on X and y\n",
    "\n",
    "from sklearn.model_selection import train_test_split as tts\n",
    "X_train, X_test, y_train, y_test = tts(X, y, test_size=0.3, stratify=y, random_state=36)"
   ]
  },
  {
   "cell_type": "code",
   "execution_count": 2431,
   "id": "c403b043",
   "metadata": {},
   "outputs": [],
   "source": [
    "# Feature Scaling using Min-Max Scaler\n",
    "\n",
    "from sklearn.preprocessing import MinMaxScaler\n",
    "sc = MinMaxScaler()\n",
    "X_train = sc.fit_transform(X_train)\n",
    "X_test = sc.transform(X_test)"
   ]
  },
  {
   "cell_type": "markdown",
   "id": "c958546e",
   "metadata": {},
   "source": [
    "## Model Selection"
   ]
  },
  {
   "cell_type": "code",
   "execution_count": 2432,
   "id": "a7d7d846",
   "metadata": {},
   "outputs": [],
   "source": [
    "# importing all necessary models to find best fit \n",
    "\n",
    "from sklearn.linear_model import LogisticRegression\n",
    "from sklearn.neighbors import KNeighborsClassifier\n",
    "from sklearn.svm import SVC\n",
    "from sklearn.tree import DecisionTreeClassifier\n",
    "from sklearn.ensemble import RandomForestClassifier, VotingClassifier\n",
    "from sklearn.naive_bayes import GaussianNB\n",
    "from sklearn.naive_bayes import BernoulliNB\n",
    "from sklearn.naive_bayes import MultinomialNB\n",
    "from xgboost import XGBClassifier\n",
    "from catboost import CatBoostClassifier\n",
    "\n",
    "from sklearn.model_selection import cross_val_score\n",
    "from sklearn.model_selection import RandomizedSearchCV, GridSearchCV"
   ]
  },
  {
   "cell_type": "code",
   "execution_count": 2433,
   "id": "4c99e487",
   "metadata": {},
   "outputs": [],
   "source": [
    "LR = LogisticRegression()\n",
    "KNN = KNeighborsClassifier()\n",
    "SVM = SVC()\n",
    "DT = DecisionTreeClassifier()\n",
    "RF = RandomForestClassifier()\n",
    "GNB = GaussianNB()\n",
    "BNB = BernoulliNB()\n",
    "MNB = MultinomialNB()\n",
    "XGB = XGBClassifier()\n",
    "CBC = CatBoostClassifier(iterations=10)"
   ]
  },
  {
   "cell_type": "code",
   "execution_count": 2434,
   "id": "f25a9ab1",
   "metadata": {},
   "outputs": [],
   "source": [
    "models = {'LR':LR, 'KNN':KNN, 'SVM':SVM, 'DT':DT, 'RF':RF, 'GNB':GNB, 'BNB':BNB, 'XGB':XGB}"
   ]
  },
  {
   "cell_type": "code",
   "execution_count": 2435,
   "id": "5cfe8f16",
   "metadata": {},
   "outputs": [],
   "source": [
    "# Evaluation metrics\n",
    "\n",
    "from sklearn.metrics import f1_score, confusion_matrix, accuracy_score"
   ]
  },
  {
   "cell_type": "code",
   "execution_count": 2436,
   "id": "36919fb3",
   "metadata": {
    "scrolled": false
   },
   "outputs": [
    {
     "name": "stdout",
     "output_type": "stream",
     "text": [
      "LR\n",
      "[0.45724674 0.4262029  0.4288251  0.44204985 0.42708333 0.40660266\n",
      " 0.43620744 0.3990472  0.40020845 0.45023148]\n",
      "0.42737051664401643 0.019192810597069062\n",
      "\n",
      "0.42136337293538106\n",
      "0.5942857142857143\n",
      "[[1198   62]\n",
      " [ 790   50]]\n",
      "\n",
      "KNN\n",
      "[0.51139232 0.52364614 0.52028957 0.51516055 0.49988984 0.52087547\n",
      " 0.50558072 0.51193239 0.50448825 0.53019713]\n",
      "0.5143452383624915 0.009021696143991516\n",
      "\n",
      "0.5126386890314361\n",
      "0.5461904761904762\n",
      "[[849 411]\n",
      " [542 298]]\n",
      "\n",
      "SVM\n",
      "[0.375 0.375 0.375 0.375 0.375 0.375 0.375 0.375 0.375 0.375]\n",
      "0.37499999999999994 0.0\n",
      "\n",
      "0.37499999999999994\n",
      "0.6\n",
      "[[1260    0]\n",
      " [ 840    0]]\n",
      "\n",
      "DT\n",
      "[0.50479721 0.48688042 0.48869565 0.53404053 0.51783988 0.54506803\n",
      " 0.5153272  0.54132319 0.52299465 0.52165518]\n",
      "0.5178621938524014 0.018922793503095288\n",
      "\n",
      "0.5039613948357333\n",
      "0.5233333333333333\n",
      "[[757 503]\n",
      " [498 342]]\n",
      "\n",
      "RF\n",
      "[0.499362   0.52282599 0.52711397 0.534166   0.53746531 0.54633024\n",
      " 0.5627933  0.53126841 0.5405045  0.5251938 ]\n",
      "0.532702351644436 0.015734268988624935\n",
      "\n",
      "0.5188301949675054\n",
      "0.5704761904761905\n",
      "[[943 317]\n",
      " [585 255]]\n",
      "\n",
      "GNB\n",
      "[0.55607284 0.52642416 0.49411219 0.51731987 0.55775333 0.50967234\n",
      " 0.53094456 0.48933544 0.52262394 0.5276912 ]\n",
      "0.5231949872584986 0.021391388502928172\n",
      "\n",
      "0.5161406006035829\n",
      "0.5823809523809523\n",
      "[[1000  260]\n",
      " [ 617  223]]\n",
      "\n",
      "BNB\n",
      "[0.375      0.375      0.375      0.375      0.375      0.375\n",
      " 0.37420179 0.375      0.375      0.375     ]\n",
      "0.3749201787994891 0.00023946360153254684\n",
      "\n",
      "0.3748139327180709\n",
      "0.5995238095238096\n",
      "[[1259    1]\n",
      " [ 840    0]]\n",
      "\n",
      "XGB\n",
      "[0.49418422 0.50230419 0.53007383 0.55779243 0.52231442 0.53213662\n",
      " 0.58333333 0.56396804 0.53450292 0.52445652]\n",
      "0.5345066533607232 0.02594622359837319\n",
      "\n",
      "0.5208225399086877\n",
      "0.5704761904761905\n",
      "[[937 323]\n",
      " [579 261]]\n",
      "\n"
     ]
    }
   ],
   "source": [
    "cv_macro_f1_scores = []\n",
    "test_macro_f1_scores = []\n",
    "test_accuracy_scores = []\n",
    "\n",
    "for modelname,model in models.items():\n",
    "    print(modelname)\n",
    "    macro_f1_scores = cross_val_score(model, X_train, y_train, cv=10, scoring='f1_macro')\n",
    "    print(macro_f1_scores)\n",
    "    print(macro_f1_scores.mean(),macro_f1_scores.std())\n",
    "    cv_macro_f1_scores.append(macro_f1_scores.mean())\n",
    "    print()\n",
    "    model.fit(X_train, y_train)\n",
    "    y_pred = model.predict(X_test)\n",
    "    print(f1_score(y_test,y_pred,average='macro'))\n",
    "    test_macro_f1_scores.append(f1_score(y_test,y_pred,average='macro'))\n",
    "    print(accuracy_score(y_test,y_pred))\n",
    "    test_accuracy_scores.append(accuracy_score(y_test,y_pred))\n",
    "    print(confusion_matrix(y_test,y_pred))\n",
    "    print()"
   ]
  },
  {
   "cell_type": "code",
   "execution_count": 2437,
   "id": "6defafa0",
   "metadata": {
    "scrolled": false
   },
   "outputs": [
    {
     "data": {
      "text/plain": [
       "<AxesSubplot:>"
      ]
     },
     "execution_count": 2437,
     "metadata": {},
     "output_type": "execute_result"
    },
    {
     "data": {
      "image/png": "[encoded data removed]",
      "text/plain": [
       "<Figure size 864x504 with 1 Axes>"
      ]
     },
     "metadata": {
      "needs_background": "light"
     },
     "output_type": "display_data"
    }
   ],
   "source": [
    "scoreboard = pd.DataFrame({'models':models.keys(), 'cv_macro_f1_scores': cv_macro_f1_scores, 'test_macro_f1_scores': test_macro_f1_scores, 'test_accuracy_scores': test_accuracy_scores},index=models.keys())\n",
    "scoreboard.sort_values(by='test_macro_f1_scores',ascending=False).plot(kind='bar', figsize=(12,7))"
   ]
  },
  {
   "cell_type": "code",
   "execution_count": 2438,
   "id": "5f47c992",
   "metadata": {},
   "outputs": [
    {
     "data": {
      "text/plain": [
       "0.46794634062504964"
      ]
     },
     "execution_count": 2438,
     "metadata": {},
     "output_type": "execute_result"
    }
   ],
   "source": [
    "np.mean(test_macro_f1_scores)"
   ]
  },
  {
   "cell_type": "code",
   "execution_count": 2439,
   "id": "e5e810ad",
   "metadata": {},
   "outputs": [
    {
     "data": {
      "text/plain": [
       "0.5733333333333334"
      ]
     },
     "execution_count": 2439,
     "metadata": {},
     "output_type": "execute_result"
    }
   ],
   "source": [
    "np.mean(test_accuracy_scores)"
   ]
  },
  {
   "cell_type": "markdown",
   "id": "bb0c3fff",
   "metadata": {},
   "source": [
    "## Final Model Training"
   ]
  },
  {
   "cell_type": "code",
   "execution_count": 2440,
   "id": "4b49b4a9",
   "metadata": {},
   "outputs": [],
   "source": [
    "scaler = MinMaxScaler()\n",
    "X = scaler.fit_transform(X)\n",
    "test_df = scaler.transform(test_df)"
   ]
  },
  {
   "cell_type": "code",
   "execution_count": 2441,
   "id": "5d60f612",
   "metadata": {
    "scrolled": false
   },
   "outputs": [],
   "source": [
    "clf = XGBClassifier()\n",
    "clf.fit(X, y)\n",
    "pred_data = clf.predict(test_df)"
   ]
  },
  {
   "cell_type": "code",
   "execution_count": 2442,
   "id": "277829a8",
   "metadata": {},
   "outputs": [],
   "source": [
    "submission['loan_default'] = pred_data"
   ]
  },
  {
   "cell_type": "code",
   "execution_count": 2443,
   "id": "7b858a47",
   "metadata": {},
   "outputs": [],
   "source": [
    "submission.to_csv('solution_file.csv',index=False)"
   ]
  },
  {
   "cell_type": "code",
   "execution_count": 2444,
   "id": "71061565",
   "metadata": {},
   "outputs": [],
   "source": [
    "features_importance = pd.DataFrame(clf.feature_importances_, index =columns)"
   ]
  },
  {
   "cell_type": "code",
   "execution_count": 2445,
   "id": "50c6e44a",
   "metadata": {},
   "outputs": [
    {
     "data": {
      "text/plain": [
       "<AxesSubplot:>"
      ]
     },
     "execution_count": 2445,
     "metadata": {},
     "output_type": "execute_result"
    },
    {
     "data": {
      "image/png": "[encoded data removed]",
      "text/plain": [
       "<Figure size 432x288 with 1 Axes>"
      ]
     },
     "metadata": {
      "needs_background": "light"
     },
     "output_type": "display_data"
    }
   ],
   "source": [
    "features_importance.plot(kind='bar')"
   ]
  },
  {
   "cell_type": "code",
   "execution_count": 2446,
   "id": "9eb260c8",
   "metadata": {
    "scrolled": false
   },
   "outputs": [
    {
     "data": {
      "text/html": [
       "<div>\n",
       "<style scoped>\n",
       "    .dataframe tbody tr th:only-of-type {\n",
       "        vertical-align: middle;\n",
       "    }\n",
       "\n",
       "    .dataframe tbody tr th {\n",
       "        vertical-align: top;\n",
       "    }\n",
       "\n",
       "    .dataframe thead th {\n",
       "        text-align: right;\n",
       "    }\n",
       "</style>\n",
       "<table border=\"1\" class=\"dataframe\">\n",
       "  <thead>\n",
       "    <tr style=\"text-align: right;\">\n",
       "      <th></th>\n",
       "      <th>0</th>\n",
       "    </tr>\n",
       "  </thead>\n",
       "  <tbody>\n",
       "    <tr>\n",
       "      <th>2</th>\n",
       "      <td>0.122284</td>\n",
       "    </tr>\n",
       "    <tr>\n",
       "      <th>1</th>\n",
       "      <td>0.127375</td>\n",
       "    </tr>\n",
       "    <tr>\n",
       "      <th>no_of_loans</th>\n",
       "      <td>0.135577</td>\n",
       "    </tr>\n",
       "    <tr>\n",
       "      <th>age</th>\n",
       "      <td>0.139619</td>\n",
       "    </tr>\n",
       "    <tr>\n",
       "      <th>no_of_curr_loans</th>\n",
       "      <td>0.143929</td>\n",
       "    </tr>\n",
       "    <tr>\n",
       "      <th>asset_cost</th>\n",
       "      <td>0.160750</td>\n",
       "    </tr>\n",
       "    <tr>\n",
       "      <th>loan_amount</th>\n",
       "      <td>0.170467</td>\n",
       "    </tr>\n",
       "  </tbody>\n",
       "</table>\n",
       "</div>"
      ],
      "text/plain": [
       "                         0\n",
       "2                 0.122284\n",
       "1                 0.127375\n",
       "no_of_loans       0.135577\n",
       "age               0.139619\n",
       "no_of_curr_loans  0.143929\n",
       "asset_cost        0.160750\n",
       "loan_amount       0.170467"
      ]
     },
     "execution_count": 2446,
     "metadata": {},
     "output_type": "execute_result"
    }
   ],
   "source": [
    "features_importance.sort_values(by=0)"
   ]
  },
  {
   "cell_type": "code",
   "execution_count": null,
   "id": "ce70d852",
   "metadata": {},
   "outputs": [],
   "source": []
  },
  {
   "cell_type": "code",
   "execution_count": null,
   "id": "c0378163",
   "metadata": {},
   "outputs": [],
   "source": []
  },
  {
   "cell_type": "code",
   "execution_count": null,
   "id": "94ab5635",
   "metadata": {},
   "outputs": [],
   "source": []
  }
 ],
 "metadata": {
  "kernelspec": {
   "display_name": "Python 3 (ipykernel)",
   "language": "python",
   "name": "python3"
  },
  "language_info": {
   "codemirror_mode": {
    "name": "ipython",
    "version": 3
   },
   "file_extension": ".py",
   "mimetype": "text/x-python",
   "name": "python",
   "nbconvert_exporter": "python",
   "pygments_lexer": "ipython3",
   "version": "3.9.6"
  }
 },
 "nbformat": 4,
 "nbformat_minor": 5
}
